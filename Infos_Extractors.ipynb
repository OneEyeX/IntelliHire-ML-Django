{
 "cells": [
  {
   "cell_type": "code",
   "execution_count": 18,
   "metadata": {},
   "outputs": [],
   "source": [
    "# !pip install python-docx\n",
    "# !pip install docx\n",
    "# !pip install PyPDF2\n",
    "# !pip install pyresparser\n",
    "# !pip install nltk\n",
    "# !pip install spacy==2.3.5\n",
    "# !pip install https://github.com/explosion/spacy-models/releases/download/en_core_web_sm-2.3.1/en_core_web_sm-2.3.1.tar.gz"
   ]
  },
  {
   "cell_type": "code",
   "execution_count": 19,
   "metadata": {},
   "outputs": [
    {
     "name": "stderr",
     "output_type": "stream",
     "text": [
      "[nltk_data] Downloading package stopwords to\n",
      "[nltk_data]     C:\\Users\\Chedly\\AppData\\Roaming\\nltk_data...\n",
      "[nltk_data]   Package stopwords is already up-to-date!\n"
     ]
    },
    {
     "data": {
      "text/plain": [
       "True"
      ]
     },
     "execution_count": 19,
     "metadata": {},
     "output_type": "execute_result"
    }
   ],
   "source": [
    "import nltk\n",
    "nltk.download('stopwords')\n"
   ]
  },
  {
   "cell_type": "code",
   "execution_count": 20,
   "metadata": {},
   "outputs": [],
   "source": [
    "from pyresparser import ResumeParser\n",
    "from docx import Document\n",
    "import pickle\n"
   ]
  },
  {
   "cell_type": "code",
   "execution_count": 21,
   "metadata": {},
   "outputs": [],
   "source": [
    "filed=\"Test_CV/Chedly Chahed Resume.pdf\"\n",
    "# filed=\"Test_CV/Rania.pdf\"\n",
    "# filed=\"Test_CV/CV.pdf\"\n",
    "# filed=\"Test_CV/HR.pdf\""
   ]
  },
  {
   "cell_type": "code",
   "execution_count": 22,
   "metadata": {},
   "outputs": [
    {
     "name": "stderr",
     "output_type": "stream",
     "text": [
      "c:\\Users\\Chedly\\Desktop\\ING1\\PythonProject\\ProjectWork\\virt\\Lib\\site-packages\\spacy\\util.py:275: UserWarning: [W031] Model 'en_training' (0.0.0) requires spaCy v2.1 and is incompatible with the current spaCy version (2.3.9). This may lead to unexpected results or runtime errors. To resolve this, download a newer compatible model or retrain your custom model with the current spaCy version. For more details and available updates, run: python -m spacy validate\n",
      "  warnings.warn(warn_msg)\n"
     ]
    },
    {
     "name": "stdout",
     "output_type": "stream",
     "text": [
      "{'name': 'u d', 'email': 'chedly.chahed@etudiant-fst.utm.tn', 'mobile_number': None, 'skills': ['Windows', 'English', 'Docker', 'Access', 'Flask', 'French', 'Asp', 'Website', 'Sql', 'Html', 'Engineering', 'Mysql', 'Postgresql', 'System', 'P', 'Django', 'Css', 'Oracle', 'Testing', 'Linux', 'Security', 'Os', 'German', 'Api', 'Compliance', 'Design', 'Cloud', 'Github', 'Javascript', 'C', 'Ubuntu', 'Database', 'Apis', 'Programming', 'Python', 'R', 'Java', 'Rest', 'Php', 'Js'], 'college_name': None, 'degree': ['e-Films : \\n- Developed a film streaming', 'Baccalaureate in Computer'], 'designation': None, 'experience': None, 'company_names': None, 'no_of_pages': 1, 'total_experience': 0}\n"
     ]
    }
   ],
   "source": [
    "try:\n",
    "    doc = Document()\n",
    "    with open(filed, 'r', encoding='latin-1') as file:\n",
    "        doc.add_paragraph(file.read())\n",
    "    doc.save(\"text.docx\")\n",
    "    data = ResumeParser('text.docx').get_extracted_data()\n",
    "    # print(data['skills'])\n",
    "except:\n",
    "    data = ResumeParser(filed).get_extracted_data()\n",
    "    # print(data)\n",
    "\n",
    "# print(data['skills'])\n",
    "# print(data['email'])\n",
    "print(data)\n"
   ]
  },
  {
   "cell_type": "code",
   "execution_count": 23,
   "metadata": {},
   "outputs": [
    {
     "name": "stderr",
     "output_type": "stream",
     "text": [
      "c:\\Users\\Chedly\\Desktop\\ING1\\PythonProject\\ProjectWork\\virt\\Lib\\site-packages\\spacy\\util.py:275: UserWarning: [W031] Model 'en_training' (0.0.0) requires spaCy v2.1 and is incompatible with the current spaCy version (2.3.9). This may lead to unexpected results or runtime errors. To resolve this, download a newer compatible model or retrain your custom model with the current spaCy version. For more details and available updates, run: python -m spacy validate\n",
      "  warnings.warn(warn_msg)\n"
     ]
    },
    {
     "name": "stdout",
     "output_type": "stream",
     "text": [
      "{'name': 'u d', 'email': 'chedly.chahed@etudiant-fst.utm.tn', 'mobile_number': None, 'skills': ['Windows', 'English', 'Docker', 'Access', 'Flask', 'French', 'Asp', 'Website', 'Sql', 'Html', 'Engineering', 'Mysql', 'Postgresql', 'System', 'P', 'Django', 'Css', 'Oracle', 'Testing', 'Linux', 'Security', 'Os', 'German', 'Api', 'Compliance', 'Design', 'Cloud', 'Github', 'Javascript', 'C', 'Ubuntu', 'Database', 'Apis', 'Programming', 'Python', 'R', 'Java', 'Rest', 'Php', 'Js'], 'college_name': None, 'degree': ['e-Films : \\n- Developed a film streaming', 'Baccalaureate in Computer'], 'designation': None, 'experience': None, 'company_names': None, 'no_of_pages': 1, 'total_experience': 0}\n"
     ]
    }
   ],
   "source": [
    "def extract_infos(filed):\n",
    "    try:\n",
    "        doc = Document()\n",
    "        with open(filed, 'r', encoding='latin-1') as file:\n",
    "            doc.add_paragraph(file.read())\n",
    "        doc.save(\"text.docx\")\n",
    "        data = ResumeParser('text.docx').get_extracted_data()\n",
    "        # print(data['skills'])\n",
    "    except:\n",
    "        data = ResumeParser(filed).get_extracted_data()\n",
    "        # print(data)\n",
    "    return (data)\n",
    "\n",
    "    # print(data['skills'])\n",
    "    # print(data['email'])\n",
    "    # print(data)\n",
    "extracted = extract_infos(filed)\n",
    "print(extracted)\n",
    "# pickle.dump(extracted, open(\"model.sav\", \"wb\"))"
   ]
  },
  {
   "cell_type": "code",
   "execution_count": null,
   "metadata": {},
   "outputs": [],
   "source": []
  }
 ],
 "metadata": {
  "kernelspec": {
   "display_name": "virt",
   "language": "python",
   "name": "python3"
  },
  "language_info": {
   "codemirror_mode": {
    "name": "ipython",
    "version": 3
   },
   "file_extension": ".py",
   "mimetype": "text/x-python",
   "name": "python",
   "nbconvert_exporter": "python",
   "pygments_lexer": "ipython3",
   "version": "3.11.5"
  }
 },
 "nbformat": 4,
 "nbformat_minor": 2
}
